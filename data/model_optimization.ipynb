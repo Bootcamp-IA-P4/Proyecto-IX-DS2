{
 "cells": [
  {
   "cell_type": "markdown",
   "metadata": {},
   "source": [
    "# Optimización del Modelo: Rebalanceo + Tuning\n",
    "\n",
    "Este notebook explora cómo mejorar el rendimiento del modelo de clasificación de ictus combinando técnicas de rebalanceo de clases, algoritmos de aprendizaje automático y métodos de optimización de hiperparámetros."
   ]
  },
  {
   "cell_type": "code",
   "execution_count": 2,
   "id": "317a966a",
   "metadata": {},
   "outputs": [
    {
     "data": {
      "application/vnd.microsoft.datawrangler.viewer.v0+json": {
       "columns": [
        {
         "name": "index",
         "rawType": "int64",
         "type": "integer"
        },
        {
         "name": "gender",
         "rawType": "int64",
         "type": "integer"
        },
        {
         "name": "age",
         "rawType": "float64",
         "type": "float"
        },
        {
         "name": "hypertension",
         "rawType": "int64",
         "type": "integer"
        },
        {
         "name": "heart_disease",
         "rawType": "int64",
         "type": "integer"
        },
        {
         "name": "ever_married",
         "rawType": "int64",
         "type": "integer"
        },
        {
         "name": "Residence_type",
         "rawType": "int64",
         "type": "integer"
        },
        {
         "name": "avg_glucose_level",
         "rawType": "float64",
         "type": "float"
        },
        {
         "name": "bmi",
         "rawType": "float64",
         "type": "float"
        },
        {
         "name": "stroke",
         "rawType": "int64",
         "type": "integer"
        },
        {
         "name": "work_type_Private",
         "rawType": "int64",
         "type": "integer"
        },
        {
         "name": "work_type_Self-employed",
         "rawType": "int64",
         "type": "integer"
        },
        {
         "name": "work_type_children",
         "rawType": "int64",
         "type": "integer"
        },
        {
         "name": "smoking_status_formerly smoked",
         "rawType": "int64",
         "type": "integer"
        },
        {
         "name": "smoking_status_never smoked",
         "rawType": "int64",
         "type": "integer"
        },
        {
         "name": "smoking_status_smokes",
         "rawType": "int64",
         "type": "integer"
        }
       ],
       "ref": "b95ef66b-ac59-4ced-a3d5-093397e97878",
       "rows": [
        [
         "0",
         "1",
         "67.0",
         "0",
         "1",
         "1",
         "1",
         "228.69",
         "36.6",
         "1",
         "1",
         "0",
         "0",
         "1",
         "0",
         "0"
        ],
        [
         "1",
         "1",
         "80.0",
         "0",
         "1",
         "1",
         "0",
         "105.92",
         "32.5",
         "1",
         "1",
         "0",
         "0",
         "0",
         "1",
         "0"
        ],
        [
         "2",
         "0",
         "49.0",
         "0",
         "0",
         "1",
         "1",
         "171.23",
         "34.4",
         "1",
         "1",
         "0",
         "0",
         "0",
         "0",
         "1"
        ],
        [
         "3",
         "0",
         "79.0",
         "1",
         "0",
         "1",
         "0",
         "174.12",
         "24.0",
         "1",
         "0",
         "1",
         "0",
         "0",
         "1",
         "0"
        ],
        [
         "4",
         "1",
         "81.0",
         "0",
         "0",
         "1",
         "1",
         "186.21",
         "29.0",
         "1",
         "1",
         "0",
         "0",
         "1",
         "0",
         "0"
        ]
       ],
       "shape": {
        "columns": 15,
        "rows": 5
       }
      },
      "text/html": [
       "<div>\n",
       "<style scoped>\n",
       "    .dataframe tbody tr th:only-of-type {\n",
       "        vertical-align: middle;\n",
       "    }\n",
       "\n",
       "    .dataframe tbody tr th {\n",
       "        vertical-align: top;\n",
       "    }\n",
       "\n",
       "    .dataframe thead th {\n",
       "        text-align: right;\n",
       "    }\n",
       "</style>\n",
       "<table border=\"1\" class=\"dataframe\">\n",
       "  <thead>\n",
       "    <tr style=\"text-align: right;\">\n",
       "      <th></th>\n",
       "      <th>gender</th>\n",
       "      <th>age</th>\n",
       "      <th>hypertension</th>\n",
       "      <th>heart_disease</th>\n",
       "      <th>ever_married</th>\n",
       "      <th>Residence_type</th>\n",
       "      <th>avg_glucose_level</th>\n",
       "      <th>bmi</th>\n",
       "      <th>stroke</th>\n",
       "      <th>work_type_Private</th>\n",
       "      <th>work_type_Self-employed</th>\n",
       "      <th>work_type_children</th>\n",
       "      <th>smoking_status_formerly smoked</th>\n",
       "      <th>smoking_status_never smoked</th>\n",
       "      <th>smoking_status_smokes</th>\n",
       "    </tr>\n",
       "  </thead>\n",
       "  <tbody>\n",
       "    <tr>\n",
       "      <th>0</th>\n",
       "      <td>1</td>\n",
       "      <td>67.0</td>\n",
       "      <td>0</td>\n",
       "      <td>1</td>\n",
       "      <td>1</td>\n",
       "      <td>1</td>\n",
       "      <td>228.69</td>\n",
       "      <td>36.6</td>\n",
       "      <td>1</td>\n",
       "      <td>1</td>\n",
       "      <td>0</td>\n",
       "      <td>0</td>\n",
       "      <td>1</td>\n",
       "      <td>0</td>\n",
       "      <td>0</td>\n",
       "    </tr>\n",
       "    <tr>\n",
       "      <th>1</th>\n",
       "      <td>1</td>\n",
       "      <td>80.0</td>\n",
       "      <td>0</td>\n",
       "      <td>1</td>\n",
       "      <td>1</td>\n",
       "      <td>0</td>\n",
       "      <td>105.92</td>\n",
       "      <td>32.5</td>\n",
       "      <td>1</td>\n",
       "      <td>1</td>\n",
       "      <td>0</td>\n",
       "      <td>0</td>\n",
       "      <td>0</td>\n",
       "      <td>1</td>\n",
       "      <td>0</td>\n",
       "    </tr>\n",
       "    <tr>\n",
       "      <th>2</th>\n",
       "      <td>0</td>\n",
       "      <td>49.0</td>\n",
       "      <td>0</td>\n",
       "      <td>0</td>\n",
       "      <td>1</td>\n",
       "      <td>1</td>\n",
       "      <td>171.23</td>\n",
       "      <td>34.4</td>\n",
       "      <td>1</td>\n",
       "      <td>1</td>\n",
       "      <td>0</td>\n",
       "      <td>0</td>\n",
       "      <td>0</td>\n",
       "      <td>0</td>\n",
       "      <td>1</td>\n",
       "    </tr>\n",
       "    <tr>\n",
       "      <th>3</th>\n",
       "      <td>0</td>\n",
       "      <td>79.0</td>\n",
       "      <td>1</td>\n",
       "      <td>0</td>\n",
       "      <td>1</td>\n",
       "      <td>0</td>\n",
       "      <td>174.12</td>\n",
       "      <td>24.0</td>\n",
       "      <td>1</td>\n",
       "      <td>0</td>\n",
       "      <td>1</td>\n",
       "      <td>0</td>\n",
       "      <td>0</td>\n",
       "      <td>1</td>\n",
       "      <td>0</td>\n",
       "    </tr>\n",
       "    <tr>\n",
       "      <th>4</th>\n",
       "      <td>1</td>\n",
       "      <td>81.0</td>\n",
       "      <td>0</td>\n",
       "      <td>0</td>\n",
       "      <td>1</td>\n",
       "      <td>1</td>\n",
       "      <td>186.21</td>\n",
       "      <td>29.0</td>\n",
       "      <td>1</td>\n",
       "      <td>1</td>\n",
       "      <td>0</td>\n",
       "      <td>0</td>\n",
       "      <td>1</td>\n",
       "      <td>0</td>\n",
       "      <td>0</td>\n",
       "    </tr>\n",
       "  </tbody>\n",
       "</table>\n",
       "</div>"
      ],
      "text/plain": [
       "   gender   age  hypertension  heart_disease  ever_married  Residence_type  \\\n",
       "0       1  67.0             0              1             1               1   \n",
       "1       1  80.0             0              1             1               0   \n",
       "2       0  49.0             0              0             1               1   \n",
       "3       0  79.0             1              0             1               0   \n",
       "4       1  81.0             0              0             1               1   \n",
       "\n",
       "   avg_glucose_level   bmi  stroke  work_type_Private  \\\n",
       "0             228.69  36.6       1                  1   \n",
       "1             105.92  32.5       1                  1   \n",
       "2             171.23  34.4       1                  1   \n",
       "3             174.12  24.0       1                  0   \n",
       "4             186.21  29.0       1                  1   \n",
       "\n",
       "   work_type_Self-employed  work_type_children  \\\n",
       "0                        0                   0   \n",
       "1                        0                   0   \n",
       "2                        0                   0   \n",
       "3                        1                   0   \n",
       "4                        0                   0   \n",
       "\n",
       "   smoking_status_formerly smoked  smoking_status_never smoked  \\\n",
       "0                               1                            0   \n",
       "1                               0                            1   \n",
       "2                               0                            0   \n",
       "3                               0                            1   \n",
       "4                               1                            0   \n",
       "\n",
       "   smoking_status_smokes  \n",
       "0                      0  \n",
       "1                      0  \n",
       "2                      1  \n",
       "3                      0  \n",
       "4                      0  "
      ]
     },
     "execution_count": 2,
     "metadata": {},
     "output_type": "execute_result"
    }
   ],
   "source": [
    "# Carga del dataset preprocesado\n",
    "import pandas as pd\n",
    "\n",
    "# Suponemos que el archivo está en la misma carpeta que este notebook\n",
    "df = pd.read_csv('cleaned_dataset.csv')\n",
    "\n",
    "# Visualizamos las primeras filas\n",
    "df.head()"
   ]
  },
  {
   "cell_type": "markdown",
   "metadata": {},
   "source": [
    "## 1. Preparación de datos\n",
    "Importamos los datos ya preprocesados y realizamos la partición `train/test` (sin rebalanceo aún)."
   ]
  },
  {
   "cell_type": "code",
   "execution_count": 7,
   "metadata": {},
   "outputs": [],
   "source": [
    "# Carga del dataset limpio y preprocesado\n",
    "import pandas as pd\n",
    "from sklearn.model_selection import train_test_split\n",
    "\n",
    "# Definimos features y target\n",
    "X = df.drop(\"stroke\", axis=1)\n",
    "y = df[\"stroke\"]\n",
    "\n",
    "\n",
    "# División train/test\n",
    "X_train, X_test, y_train, y_test = train_test_split(X, y, stratify=y, test_size=0.2, random_state=42)"
   ]
  },
  {
   "cell_type": "markdown",
   "metadata": {},
   "source": [
    "## 2. Aplicación de técnicas de rebalanceo\n",
    "Probamos varias técnicas (SMOTE, RandomUnderSampler, SMOTEENN...) y analizamos cómo afectan a la distribución de clases."
   ]
  },
  {
   "cell_type": "code",
   "execution_count": 8,
   "id": "624f61a1",
   "metadata": {},
   "outputs": [
    {
     "data": {
      "image/png": "[encoded data removed]",
      "text/plain": [
       "<Figure size 1200x400 with 2 Axes>"
      ]
     },
     "metadata": {},
     "output_type": "display_data"
    },
    {
     "data": {
      "image/png": "[encoded data removed]",
      "text/plain": [
       "<Figure size 1200x400 with 2 Axes>"
      ]
     },
     "metadata": {},
     "output_type": "display_data"
    },
    {
     "data": {
      "image/png": "[encoded data removed]",
      "text/plain": [
       "<Figure size 1200x400 with 2 Axes>"
      ]
     },
     "metadata": {},
     "output_type": "display_data"
    }
   ],
   "source": [
    "# Aplicación de técnicas de rebalanceo\n",
    "from imblearn.over_sampling import SMOTE\n",
    "from imblearn.under_sampling import RandomUnderSampler\n",
    "from imblearn.combine import SMOTEENN\n",
    "import matplotlib.pyplot as plt\n",
    "import seaborn as sns\n",
    "\n",
    "# Función para mostrar la distribución de clases\n",
    "def plot_class_distribution(y_original, y_resampled, title):\n",
    "    fig, ax = plt.subplots(1, 2, figsize=(12, 4))\n",
    "    sns.countplot(x=y_original, ax=ax[0])\n",
    "    ax[0].set_title('Antes del rebalanceo')\n",
    "    sns.countplot(x=y_resampled, ax=ax[1])\n",
    "    ax[1].set_title(f'Después del rebalanceo ({title})')\n",
    "    plt.tight_layout()\n",
    "    plt.show()\n",
    "\n",
    "# SMOTE\n",
    "smote = SMOTE(random_state=42)\n",
    "X_smote, y_smote = smote.fit_resample(X_train, y_train)\n",
    "plot_class_distribution(y_train, y_smote, 'SMOTE')\n",
    "\n",
    "# RandomUnderSampler\n",
    "rus = RandomUnderSampler(random_state=42)\n",
    "X_rus, y_rus = rus.fit_resample(X_train, y_train)\n",
    "plot_class_distribution(y_train, y_rus, 'Random UnderSampler')\n",
    "\n",
    "# SMOTEENN\n",
    "smoteenn = SMOTEENN(random_state=42)\n",
    "X_smoteenn, y_smoteenn = smoteenn.fit_resample(X_train, y_train)\n",
    "plot_class_distribution(y_train, y_smoteenn, 'SMOTEENN')"
   ]
  },
  {
   "cell_type": "code",
   "execution_count": 10,
   "id": "069cd384",
   "metadata": {},
   "outputs": [
    {
     "name": "stdout",
     "output_type": "stream",
     "text": [
      "--- RandomForest con SMOTE ---\n",
      "              precision    recall  f1-score   support\n",
      "\n",
      "           0       0.96      0.95      0.95       947\n",
      "           1       0.15      0.18      0.16        50\n",
      "\n",
      "    accuracy                           0.91       997\n",
      "   macro avg       0.55      0.56      0.56       997\n",
      "weighted avg       0.92      0.91      0.91       997\n",
      "\n",
      "ROC AUC: 0.8121\n",
      "\n",
      "--- RandomForest con RandomUnderSampler ---\n",
      "              precision    recall  f1-score   support\n",
      "\n",
      "           0       0.99      0.70      0.82       947\n",
      "           1       0.14      0.92      0.24        50\n",
      "\n",
      "    accuracy                           0.71       997\n",
      "   macro avg       0.57      0.81      0.53       997\n",
      "weighted avg       0.95      0.71      0.79       997\n",
      "\n",
      "ROC AUC: 0.8247\n",
      "\n",
      "--- RandomForest con SMOTEENN ---\n",
      "              precision    recall  f1-score   support\n",
      "\n",
      "           0       0.97      0.89      0.93       947\n",
      "           1       0.18      0.46      0.26        50\n",
      "\n",
      "    accuracy                           0.87       997\n",
      "   macro avg       0.57      0.67      0.59       997\n",
      "weighted avg       0.93      0.87      0.89       997\n",
      "\n",
      "ROC AUC: 0.8259\n"
     ]
    }
   ],
   "source": [
    "# Comparación de RandomForest con diferentes técnicas de rebalanceo\n",
    "from sklearn.ensemble import RandomForestClassifier\n",
    "from sklearn.metrics import classification_report, roc_auc_score\n",
    "\n",
    "# Función para evaluar el modelo\n",
    "def evaluate_model(model, X_test, y_test):\n",
    "    y_pred = model.predict(X_test)\n",
    "    y_proba = model.predict_proba(X_test)[:, 1]\n",
    "    print(classification_report(y_test, y_pred))\n",
    "    print(f\"ROC AUC: {roc_auc_score(y_test, y_proba):.4f}\")\n",
    "\n",
    "# Entrenamiento con SMOTE\n",
    "print(\"--- RandomForest con SMOTE ---\")\n",
    "rf_smote = RandomForestClassifier(random_state=42)\n",
    "rf_smote.fit(X_smote, y_smote)\n",
    "evaluate_model(rf_smote, X_test, y_test)\n",
    "\n",
    "# Entrenamiento con RandomUnderSampler\n",
    "print(\"\\n--- RandomForest con RandomUnderSampler ---\")\n",
    "rf_rus = RandomForestClassifier(random_state=42)\n",
    "rf_rus.fit(X_rus, y_rus)\n",
    "evaluate_model(rf_rus, X_test, y_test)\n",
    "\n",
    "# Entrenamiento con SMOTEENN\n",
    "print(\"\\n--- RandomForest con SMOTEENN ---\")\n",
    "rf_smoteenn = RandomForestClassifier(random_state=42)\n",
    "rf_smoteenn.fit(X_smoteenn, y_smoteenn)\n",
    "evaluate_model(rf_smoteenn, X_test, y_test)"
   ]
  },
  {
   "cell_type": "markdown",
   "metadata": {},
   "source": [
    "## 3. Comparación básica de modelos con diferentes rebalanceos\n",
    "Entrenamos modelos base (`RandomForest`, `XGBoost`, `LGBM`) con cada técnica y comparamos sus métricas principales."
   ]
  },
  {
   "cell_type": "code",
   "execution_count": 11,
   "id": "2c27cb1f",
   "metadata": {},
   "outputs": [
    {
     "data": {
      "image/png": "[encoded data removed]",
      "text/plain": [
       "<Figure size 1000x600 with 1 Axes>"
      ]
     },
     "metadata": {},
     "output_type": "display_data"
    },
    {
     "data": {
      "application/vnd.microsoft.datawrangler.viewer.v0+json": {
       "columns": [
        {
         "name": "index",
         "rawType": "int64",
         "type": "integer"
        },
        {
         "name": "Técnica",
         "rawType": "object",
         "type": "string"
        },
        {
         "name": "Accuracy",
         "rawType": "float64",
         "type": "float"
        },
        {
         "name": "Precision",
         "rawType": "float64",
         "type": "float"
        },
        {
         "name": "Recall",
         "rawType": "float64",
         "type": "float"
        },
        {
         "name": "F1-Score",
         "rawType": "float64",
         "type": "float"
        },
        {
         "name": "ROC AUC",
         "rawType": "float64",
         "type": "float"
        }
       ],
       "ref": "4da72230-3d01-4018-975d-46d37528463e",
       "rows": [
        [
         "0",
         "SMOTE",
         "0.9077231695085256",
         "0.15",
         "0.18",
         "0.16363636363636364",
         "0.8120591341077086"
        ],
        [
         "1",
         "RandomUnderSampler",
         "0.7141424272818455",
         "0.14067278287461774",
         "0.92",
         "0.2440318302387268",
         "0.8247201689545935"
        ],
        [
         "2",
         "SMOTEENN",
         "0.8665997993981945",
         "0.17829457364341086",
         "0.46",
         "0.2569832402234637",
         "0.8258606124604012"
        ]
       ],
       "shape": {
        "columns": 6,
        "rows": 3
       }
      },
      "text/html": [
       "<div>\n",
       "<style scoped>\n",
       "    .dataframe tbody tr th:only-of-type {\n",
       "        vertical-align: middle;\n",
       "    }\n",
       "\n",
       "    .dataframe tbody tr th {\n",
       "        vertical-align: top;\n",
       "    }\n",
       "\n",
       "    .dataframe thead th {\n",
       "        text-align: right;\n",
       "    }\n",
       "</style>\n",
       "<table border=\"1\" class=\"dataframe\">\n",
       "  <thead>\n",
       "    <tr style=\"text-align: right;\">\n",
       "      <th></th>\n",
       "      <th>Técnica</th>\n",
       "      <th>Accuracy</th>\n",
       "      <th>Precision</th>\n",
       "      <th>Recall</th>\n",
       "      <th>F1-Score</th>\n",
       "      <th>ROC AUC</th>\n",
       "    </tr>\n",
       "  </thead>\n",
       "  <tbody>\n",
       "    <tr>\n",
       "      <th>0</th>\n",
       "      <td>SMOTE</td>\n",
       "      <td>0.907723</td>\n",
       "      <td>0.150000</td>\n",
       "      <td>0.18</td>\n",
       "      <td>0.163636</td>\n",
       "      <td>0.812059</td>\n",
       "    </tr>\n",
       "    <tr>\n",
       "      <th>1</th>\n",
       "      <td>RandomUnderSampler</td>\n",
       "      <td>0.714142</td>\n",
       "      <td>0.140673</td>\n",
       "      <td>0.92</td>\n",
       "      <td>0.244032</td>\n",
       "      <td>0.824720</td>\n",
       "    </tr>\n",
       "    <tr>\n",
       "      <th>2</th>\n",
       "      <td>SMOTEENN</td>\n",
       "      <td>0.866600</td>\n",
       "      <td>0.178295</td>\n",
       "      <td>0.46</td>\n",
       "      <td>0.256983</td>\n",
       "      <td>0.825861</td>\n",
       "    </tr>\n",
       "  </tbody>\n",
       "</table>\n",
       "</div>"
      ],
      "text/plain": [
       "              Técnica  Accuracy  Precision  Recall  F1-Score   ROC AUC\n",
       "0               SMOTE  0.907723   0.150000    0.18  0.163636  0.812059\n",
       "1  RandomUnderSampler  0.714142   0.140673    0.92  0.244032  0.824720\n",
       "2            SMOTEENN  0.866600   0.178295    0.46  0.256983  0.825861"
      ]
     },
     "execution_count": 11,
     "metadata": {},
     "output_type": "execute_result"
    }
   ],
   "source": [
    "# Comparación visual de las métricas principales\n",
    "import pandas as pd\n",
    "import seaborn as sns\n",
    "import matplotlib.pyplot as plt\n",
    "from sklearn.metrics import precision_score, recall_score, f1_score, accuracy_score\n",
    "\n",
    "# Función para evaluar y guardar resultados\n",
    "def get_metrics(model, X_test, y_test, name):\n",
    "    y_pred = model.predict(X_test)\n",
    "    y_proba = model.predict_proba(X_test)[:, 1]\n",
    "    return {\n",
    "        'Técnica': name,\n",
    "        'Accuracy': accuracy_score(y_test, y_pred),\n",
    "        'Precision': precision_score(y_test, y_pred),\n",
    "        'Recall': recall_score(y_test, y_pred),\n",
    "        'F1-Score': f1_score(y_test, y_pred),\n",
    "        'ROC AUC': roc_auc_score(y_test, y_proba)\n",
    "    }\n",
    "\n",
    "# Recogemos los resultados\n",
    "results = [\n",
    "    get_metrics(rf_smote, X_test, y_test, 'SMOTE'),\n",
    "    get_metrics(rf_rus, X_test, y_test, 'RandomUnderSampler'),\n",
    "    get_metrics(rf_smoteenn, X_test, y_test, 'SMOTEENN')\n",
    "]\n",
    "\n",
    "df_results = pd.DataFrame(results)\n",
    "\n",
    "# Visualización\n",
    "plt.figure(figsize=(10, 6))\n",
    "sns.barplot(data=df_results.melt(id_vars='Técnica'), x='variable', y='value', hue='Técnica')\n",
    "plt.title('Comparación de métricas por técnica de rebalanceo')\n",
    "plt.ylabel('Valor')\n",
    "plt.xlabel('Métrica')\n",
    "plt.xticks(rotation=45)\n",
    "plt.tight_layout()\n",
    "plt.show()\n",
    "\n",
    "# Mostramos la tabla también\n",
    "df_results"
   ]
  },
  {
   "cell_type": "markdown",
   "metadata": {},
   "source": [
    "## 4. Optimización de hiperparámetros con GridSearchCV\n",
    "Aplicamos `GridSearchCV` a cada modelo y analizamos la mejora respecto al rendimiento sin tuning."
   ]
  },
  {
   "cell_type": "markdown",
   "metadata": {},
   "source": [
    "## 5. Optimización con Optuna (para modelos complejos)\n",
    "Exploramos la búsqueda bayesiana de hiperparámetros para XGBoost o LightGBM usando Optuna."
   ]
  },
  {
   "cell_type": "markdown",
   "metadata": {},
   "source": [
    "## 6. Comparación final y conclusiones\n",
    "Resumimos los resultados en una tabla comparativa clara y sacamos conclusiones sobre qué combinaciones funcionan mejor."
   ]
  }
 ],
 "metadata": {
  "kernelspec": {
   "display_name": ".venv",
   "language": "python",
   "name": "python3"
  },
  "language_info": {
   "codemirror_mode": {
    "name": "ipython",
    "version": 3
   },
   "file_extension": ".py",
   "mimetype": "text/x-python",
   "name": "python",
   "nbconvert_exporter": "python",
   "pygments_lexer": "ipython3",
   "version": "3.12.4"
  }
 },
 "nbformat": 4,
 "nbformat_minor": 5
}
