{
 "cells": [
  {
   "cell_type": "markdown",
   "id": "eff7c07d",
   "metadata": {},
   "source": [
    "# Análisis Exploratorio de Datos para predecir ictus en personas"
   ]
  },
  {
   "cell_type": "code",
   "execution_count": 624,
   "id": "a61d0d76",
   "metadata": {},
   "outputs": [],
   "source": [
    "import numpy as np\n",
    "import pandas as pd "
   ]
  },
  {
   "cell_type": "code",
   "execution_count": 625,
   "id": "981fe5e0",
   "metadata": {},
   "outputs": [
    {
     "data": {
      "text/html": [
       "<div>\n",
       "<style scoped>\n",
       "    .dataframe tbody tr th:only-of-type {\n",
       "        vertical-align: middle;\n",
       "    }\n",
       "\n",
       "    .dataframe tbody tr th {\n",
       "        vertical-align: top;\n",
       "    }\n",
       "\n",
       "    .dataframe thead th {\n",
       "        text-align: right;\n",
       "    }\n",
       "</style>\n",
       "<table border=\"1\" class=\"dataframe\">\n",
       "  <thead>\n",
       "    <tr style=\"text-align: right;\">\n",
       "      <th></th>\n",
       "      <th>gender</th>\n",
       "      <th>age</th>\n",
       "      <th>hypertension</th>\n",
       "      <th>heart_disease</th>\n",
       "      <th>ever_married</th>\n",
       "      <th>work_type</th>\n",
       "      <th>Residence_type</th>\n",
       "      <th>avg_glucose_level</th>\n",
       "      <th>bmi</th>\n",
       "      <th>smoking_status</th>\n",
       "      <th>stroke</th>\n",
       "    </tr>\n",
       "  </thead>\n",
       "  <tbody>\n",
       "    <tr>\n",
       "      <th>0</th>\n",
       "      <td>Male</td>\n",
       "      <td>3.0</td>\n",
       "      <td>0</td>\n",
       "      <td>0</td>\n",
       "      <td>No</td>\n",
       "      <td>children</td>\n",
       "      <td>Rural</td>\n",
       "      <td>95.12</td>\n",
       "      <td>18.0</td>\n",
       "      <td>Unknown</td>\n",
       "      <td>0</td>\n",
       "    </tr>\n",
       "    <tr>\n",
       "      <th>1</th>\n",
       "      <td>Male</td>\n",
       "      <td>58.0</td>\n",
       "      <td>1</td>\n",
       "      <td>0</td>\n",
       "      <td>Yes</td>\n",
       "      <td>Private</td>\n",
       "      <td>Urban</td>\n",
       "      <td>87.96</td>\n",
       "      <td>39.2</td>\n",
       "      <td>never smoked</td>\n",
       "      <td>0</td>\n",
       "    </tr>\n",
       "    <tr>\n",
       "      <th>2</th>\n",
       "      <td>Female</td>\n",
       "      <td>8.0</td>\n",
       "      <td>0</td>\n",
       "      <td>0</td>\n",
       "      <td>No</td>\n",
       "      <td>Private</td>\n",
       "      <td>Urban</td>\n",
       "      <td>110.89</td>\n",
       "      <td>17.6</td>\n",
       "      <td>Unknown</td>\n",
       "      <td>0</td>\n",
       "    </tr>\n",
       "    <tr>\n",
       "      <th>3</th>\n",
       "      <td>Female</td>\n",
       "      <td>70.0</td>\n",
       "      <td>0</td>\n",
       "      <td>0</td>\n",
       "      <td>Yes</td>\n",
       "      <td>Private</td>\n",
       "      <td>Rural</td>\n",
       "      <td>69.04</td>\n",
       "      <td>35.9</td>\n",
       "      <td>formerly smoked</td>\n",
       "      <td>0</td>\n",
       "    </tr>\n",
       "    <tr>\n",
       "      <th>4</th>\n",
       "      <td>Female</td>\n",
       "      <td>52.0</td>\n",
       "      <td>0</td>\n",
       "      <td>0</td>\n",
       "      <td>Yes</td>\n",
       "      <td>Private</td>\n",
       "      <td>Urban</td>\n",
       "      <td>77.59</td>\n",
       "      <td>17.7</td>\n",
       "      <td>formerly smoked</td>\n",
       "      <td>0</td>\n",
       "    </tr>\n",
       "  </tbody>\n",
       "</table>\n",
       "</div>"
      ],
      "text/plain": [
       "   gender   age  hypertension  heart_disease ever_married work_type  \\\n",
       "0    Male   3.0             0              0           No  children   \n",
       "1    Male  58.0             1              0          Yes   Private   \n",
       "2  Female   8.0             0              0           No   Private   \n",
       "3  Female  70.0             0              0          Yes   Private   \n",
       "4  Female  52.0             0              0          Yes   Private   \n",
       "\n",
       "  Residence_type  avg_glucose_level   bmi   smoking_status  stroke  \n",
       "0          Rural              95.12  18.0          Unknown       0  \n",
       "1          Urban              87.96  39.2     never smoked       0  \n",
       "2          Urban             110.89  17.6          Unknown       0  \n",
       "3          Rural              69.04  35.9  formerly smoked       0  \n",
       "4          Urban              77.59  17.7  formerly smoked       0  "
      ]
     },
     "execution_count": 625,
     "metadata": {},
     "output_type": "execute_result"
    }
   ],
   "source": [
    "df = pd.read_csv('brain_stroke_plus.csv')\n",
    "\n",
    "df.head()"
   ]
  },
  {
   "cell_type": "code",
   "execution_count": 626,
   "id": "5b10887e",
   "metadata": {},
   "outputs": [
    {
     "name": "stdout",
     "output_type": "stream",
     "text": [
      "<class 'pandas.core.frame.DataFrame'>\n",
      "RangeIndex: 5516 entries, 0 to 5515\n",
      "Data columns (total 11 columns):\n",
      " #   Column             Non-Null Count  Dtype  \n",
      "---  ------             --------------  -----  \n",
      " 0   gender             5516 non-null   object \n",
      " 1   age                5516 non-null   float64\n",
      " 2   hypertension       5516 non-null   int64  \n",
      " 3   heart_disease      5516 non-null   int64  \n",
      " 4   ever_married       5516 non-null   object \n",
      " 5   work_type          5516 non-null   object \n",
      " 6   Residence_type     5516 non-null   object \n",
      " 7   avg_glucose_level  5516 non-null   float64\n",
      " 8   bmi                5376 non-null   float64\n",
      " 9   smoking_status     5371 non-null   object \n",
      " 10  stroke             5516 non-null   int64  \n",
      "dtypes: float64(3), int64(3), object(5)\n",
      "memory usage: 474.2+ KB\n"
     ]
    }
   ],
   "source": [
    "df.info()"
   ]
  },
  {
   "cell_type": "code",
   "execution_count": 627,
   "id": "95902e03",
   "metadata": {},
   "outputs": [
    {
     "data": {
      "text/html": [
       "<div>\n",
       "<style scoped>\n",
       "    .dataframe tbody tr th:only-of-type {\n",
       "        vertical-align: middle;\n",
       "    }\n",
       "\n",
       "    .dataframe tbody tr th {\n",
       "        vertical-align: top;\n",
       "    }\n",
       "\n",
       "    .dataframe thead th {\n",
       "        text-align: right;\n",
       "    }\n",
       "</style>\n",
       "<table border=\"1\" class=\"dataframe\">\n",
       "  <thead>\n",
       "    <tr style=\"text-align: right;\">\n",
       "      <th></th>\n",
       "      <th>age</th>\n",
       "      <th>hypertension</th>\n",
       "      <th>heart_disease</th>\n",
       "      <th>avg_glucose_level</th>\n",
       "      <th>bmi</th>\n",
       "      <th>stroke</th>\n",
       "    </tr>\n",
       "  </thead>\n",
       "  <tbody>\n",
       "    <tr>\n",
       "      <th>count</th>\n",
       "      <td>5516.000000</td>\n",
       "      <td>5516.000000</td>\n",
       "      <td>5516.000000</td>\n",
       "      <td>5516.000000</td>\n",
       "      <td>5376.000000</td>\n",
       "      <td>5516.000000</td>\n",
       "    </tr>\n",
       "    <tr>\n",
       "      <th>mean</th>\n",
       "      <td>45.832364</td>\n",
       "      <td>0.111131</td>\n",
       "      <td>0.073423</td>\n",
       "      <td>108.119755</td>\n",
       "      <td>28.584133</td>\n",
       "      <td>0.141951</td>\n",
       "    </tr>\n",
       "    <tr>\n",
       "      <th>std</th>\n",
       "      <td>23.071348</td>\n",
       "      <td>0.314323</td>\n",
       "      <td>0.260853</td>\n",
       "      <td>47.046806</td>\n",
       "      <td>6.792980</td>\n",
       "      <td>0.349031</td>\n",
       "    </tr>\n",
       "    <tr>\n",
       "      <th>min</th>\n",
       "      <td>0.080000</td>\n",
       "      <td>0.000000</td>\n",
       "      <td>0.000000</td>\n",
       "      <td>55.010000</td>\n",
       "      <td>14.000000</td>\n",
       "      <td>0.000000</td>\n",
       "    </tr>\n",
       "    <tr>\n",
       "      <th>25%</th>\n",
       "      <td>28.000000</td>\n",
       "      <td>0.000000</td>\n",
       "      <td>0.000000</td>\n",
       "      <td>77.520000</td>\n",
       "      <td>23.800000</td>\n",
       "      <td>0.000000</td>\n",
       "    </tr>\n",
       "    <tr>\n",
       "      <th>50%</th>\n",
       "      <td>48.000000</td>\n",
       "      <td>0.000000</td>\n",
       "      <td>0.000000</td>\n",
       "      <td>92.590000</td>\n",
       "      <td>28.200000</td>\n",
       "      <td>0.000000</td>\n",
       "    </tr>\n",
       "    <tr>\n",
       "      <th>75%</th>\n",
       "      <td>65.000000</td>\n",
       "      <td>0.000000</td>\n",
       "      <td>0.000000</td>\n",
       "      <td>116.215000</td>\n",
       "      <td>32.700000</td>\n",
       "      <td>0.000000</td>\n",
       "    </tr>\n",
       "    <tr>\n",
       "      <th>max</th>\n",
       "      <td>82.000000</td>\n",
       "      <td>1.000000</td>\n",
       "      <td>1.000000</td>\n",
       "      <td>271.740000</td>\n",
       "      <td>56.600000</td>\n",
       "      <td>1.000000</td>\n",
       "    </tr>\n",
       "  </tbody>\n",
       "</table>\n",
       "</div>"
      ],
      "text/plain": [
       "               age  hypertension  heart_disease  avg_glucose_level  \\\n",
       "count  5516.000000   5516.000000    5516.000000        5516.000000   \n",
       "mean     45.832364      0.111131       0.073423         108.119755   \n",
       "std      23.071348      0.314323       0.260853          47.046806   \n",
       "min       0.080000      0.000000       0.000000          55.010000   \n",
       "25%      28.000000      0.000000       0.000000          77.520000   \n",
       "50%      48.000000      0.000000       0.000000          92.590000   \n",
       "75%      65.000000      0.000000       0.000000         116.215000   \n",
       "max      82.000000      1.000000       1.000000         271.740000   \n",
       "\n",
       "               bmi       stroke  \n",
       "count  5376.000000  5516.000000  \n",
       "mean     28.584133     0.141951  \n",
       "std       6.792980     0.349031  \n",
       "min      14.000000     0.000000  \n",
       "25%      23.800000     0.000000  \n",
       "50%      28.200000     0.000000  \n",
       "75%      32.700000     0.000000  \n",
       "max      56.600000     1.000000  "
      ]
     },
     "execution_count": 627,
     "metadata": {},
     "output_type": "execute_result"
    }
   ],
   "source": [
    "df.describe()"
   ]
  },
  {
   "cell_type": "code",
   "execution_count": 628,
   "id": "f5d1970c",
   "metadata": {},
   "outputs": [
    {
     "name": "stdout",
     "output_type": "stream",
     "text": [
      "Número de filas duplicadas en el dataset inicial: 0\n"
     ]
    }
   ],
   "source": [
    "duplicates = df.duplicated()\n",
    "print(f\"Número de filas duplicadas en el dataset inicial: {duplicates.sum()}\")"
   ]
  },
  {
   "cell_type": "code",
   "execution_count": 629,
   "id": "a9a8c6f6",
   "metadata": {},
   "outputs": [
    {
     "data": {
      "image/png": "[encoded data removed]",
      "text/plain": [
       "<Figure size 600x600 with 1 Axes>"
      ]
     },
     "metadata": {},
     "output_type": "display_data"
    }
   ],
   "source": [
    "import matplotlib.pyplot as plt\n",
    "import seaborn as sns\n",
    "\n",
    "counts = df['stroke'].value_counts().sort_index()\n",
    "\n",
    "plt.figure(figsize=(6, 6))  # ancho=6, alto=4\n",
    "\n",
    "\n",
    "ax = counts.plot(kind='bar')\n",
    "plt.title('Distribución de la variable target')\n",
    "plt.xlabel('Stroke (1 = Sí, 0 = No)')\n",
    "plt.ylabel('Cantidad')\n",
    "\n",
    "plt.xticks(rotation=0)\n",
    "\n",
    "for i, v in enumerate(counts):\n",
    "    ax.text(i, v + 50, str(v), ha='center', fontsize=10)\n",
    "\n",
    "plt.show()"
   ]
  },
  {
   "cell_type": "markdown",
   "id": "67407a7e",
   "metadata": {},
   "source": [
    "Vemos que el dataset está bastante desbalanceado:\n",
    "\n",
    "- No ictus: 783\n",
    "- Ictus: 4733"
   ]
  },
  {
   "cell_type": "code",
   "execution_count": 630,
   "id": "8ca49f75",
   "metadata": {},
   "outputs": [
    {
     "name": "stdout",
     "output_type": "stream",
     "text": [
      "Columna: gender\n",
      "Valores únicos: 2\n",
      "-------\n",
      "Columna: age\n",
      "Valores únicos: 104\n",
      "-------\n",
      "Columna: hypertension\n",
      "Valores únicos: 2\n",
      "-------\n",
      "Columna: heart_disease\n",
      "Valores únicos: 2\n",
      "-------\n",
      "Columna: ever_married\n",
      "Valores únicos: 2\n",
      "-------\n",
      "Columna: work_type\n",
      "Valores únicos: 4\n",
      "-------\n",
      "Columna: Residence_type\n",
      "Valores únicos: 2\n",
      "-------\n",
      "Columna: avg_glucose_level\n",
      "Valores únicos: 4246\n",
      "-------\n",
      "Columna: bmi\n",
      "Valores únicos: 347\n",
      "-------\n",
      "Columna: smoking_status\n",
      "Valores únicos: 4\n",
      "-------\n",
      "Columna: stroke\n",
      "Valores únicos: 2\n",
      "-------\n"
     ]
    }
   ],
   "source": [
    "for col in df.columns:\n",
    "    print(f\"Columna: {col}\")\n",
    "    print(f\"Valores únicos: {df[col].nunique()}\")\n",
    "    print(\"-------\")"
   ]
  },
  {
   "cell_type": "code",
   "execution_count": 631,
   "id": "1a23be61",
   "metadata": {},
   "outputs": [
    {
     "name": "stdout",
     "output_type": "stream",
     "text": [
      "Columna: gender\n",
      "Valores únicos: ['Male' 'Female']\n",
      "-------\n",
      "Columna: hypertension\n",
      "Valores únicos: [0 1]\n",
      "-------\n",
      "Columna: heart_disease\n",
      "Valores únicos: [0 1]\n",
      "-------\n",
      "Columna: ever_married\n",
      "Valores únicos: ['No' 'Yes']\n",
      "-------\n",
      "Columna: work_type\n",
      "Valores únicos: ['children' 'Private' 'Self-employed' 'Govt_job']\n",
      "-------\n",
      "Columna: Residence_type\n",
      "Valores únicos: ['Rural' 'Urban']\n",
      "-------\n",
      "Columna: smoking_status\n",
      "Valores únicos: ['Unknown' 'never smoked' 'formerly smoked' 'smokes' nan]\n",
      "-------\n",
      "Columna: stroke\n",
      "Valores únicos: [0 1]\n",
      "-------\n"
     ]
    }
   ],
   "source": [
    "discarded_columns = [\"age\", \"avg_glucose_level\", \"bmi\"]\n",
    "\n",
    "for col in df.columns:\n",
    "    if col not in discarded_columns:\n",
    "        print(f\"Columna: {col}\")\n",
    "        print(f\"Valores únicos: {df[col].unique()}\")\n",
    "        print(\"-------\")"
   ]
  },
  {
   "cell_type": "code",
   "execution_count": 632,
   "id": "35b4aeae",
   "metadata": {},
   "outputs": [
    {
     "name": "stdout",
     "output_type": "stream",
     "text": [
      "Número de filas con 'smoking_status' como 'Unknown': 1453\n"
     ]
    }
   ],
   "source": [
    "unknwon_count = (df['smoking_status'] == \"Unknown\").sum()\n",
    "print(f\"Número de filas con 'smoking_status' como 'Unknown': {unknwon_count}\")"
   ]
  },
  {
   "cell_type": "markdown",
   "id": "5d2a7b81",
   "metadata": {},
   "source": [
    "Vemos que en la columna \"smoking_status\" ahora hay variables NaN, por lo que decidimos rellenarlos con \"Unknown\"."
   ]
  },
  {
   "cell_type": "code",
   "execution_count": 633,
   "id": "00e10bba",
   "metadata": {},
   "outputs": [],
   "source": [
    "df.fillna({\"smoking_status\": \"Unknown\"}, inplace=True)"
   ]
  },
  {
   "cell_type": "markdown",
   "id": "d38d309d",
   "metadata": {},
   "source": [
    "## Normalización y transformación de los datos\n",
    "\n",
    "- \"gender\": convertir de objeto a binario\n",
    "- \"ever_married\": convertir de objeto a binario\n",
    "- \"work_type\": convertir de objeto a binario\n",
    "- \"Residence_type\": convertir de objeto a binario\n",
    "- \"smoking_status\": convertir de objeto a binario"
   ]
  },
  {
   "cell_type": "code",
   "execution_count": 634,
   "id": "c3299229",
   "metadata": {},
   "outputs": [],
   "source": [
    "# lista de columnas categóricas a convertir\n",
    "multiclass_columns = [\"work_type\", \"smoking_status\", \"gender\"]\n",
    "\n",
    "# usamos get_dummies para convertir las columnas categóricas en variables dummy\n",
    "df = pd.get_dummies(df, columns=multiclass_columns)\n",
    "\n",
    "# aseguramos que los dummies están como enteros (0/1)\n",
    "dummy_cols = [col for col in df.columns if any(prefix in col for prefix in multiclass_columns)]\n",
    "df[dummy_cols] = df[dummy_cols].astype(int)"
   ]
  },
  {
   "cell_type": "code",
   "execution_count": 635,
   "id": "7492cf19",
   "metadata": {},
   "outputs": [],
   "source": [
    "binary_columns = [\"ever_married\", \"Residence_type\"]\n",
    "mapping_dict = {\n",
    "    \"ever_married\": {\"Yes\": 1, \"No\": 0},\n",
    "    \"Residence_type\": {\"Urban\": 1, \"Rural\": 0}\n",
    "}\n",
    "\n",
    "for col in binary_columns:\n",
    "    df[col] = df[col].map(mapping_dict[col])"
   ]
  },
  {
   "cell_type": "code",
   "execution_count": 636,
   "id": "8d0d6a1f",
   "metadata": {},
   "outputs": [
    {
     "data": {
      "text/plain": [
       "age                                 0\n",
       "hypertension                        0\n",
       "heart_disease                       0\n",
       "ever_married                        0\n",
       "Residence_type                      0\n",
       "avg_glucose_level                   0\n",
       "bmi                               140\n",
       "stroke                              0\n",
       "work_type_Govt_job                  0\n",
       "work_type_Private                   0\n",
       "work_type_Self-employed             0\n",
       "work_type_children                  0\n",
       "smoking_status_Unknown              0\n",
       "smoking_status_formerly smoked      0\n",
       "smoking_status_never smoked         0\n",
       "smoking_status_smokes               0\n",
       "gender_Female                       0\n",
       "gender_Male                         0\n",
       "dtype: int64"
      ]
     },
     "execution_count": 636,
     "metadata": {},
     "output_type": "execute_result"
    }
   ],
   "source": [
    "df.isna().sum()"
   ]
  },
  {
   "cell_type": "markdown",
   "id": "bc5d4d3f",
   "metadata": {},
   "source": [
    "Vemos que hay 140 filas con \"bmi\" \"nan\" y procedemos a imputarlos con la mediana."
   ]
  },
  {
   "cell_type": "code",
   "execution_count": 637,
   "id": "50167418",
   "metadata": {},
   "outputs": [],
   "source": [
    "bmi_median = df[\"bmi\"].median()\n",
    "\n",
    "df[\"bmi\"] = df[\"bmi\"].fillna(bmi_median)"
   ]
  },
  {
   "cell_type": "code",
   "execution_count": 638,
   "id": "649bdbc7",
   "metadata": {},
   "outputs": [
    {
     "data": {
      "text/plain": [
       "age                               0\n",
       "hypertension                      0\n",
       "heart_disease                     0\n",
       "ever_married                      0\n",
       "Residence_type                    0\n",
       "avg_glucose_level                 0\n",
       "bmi                               0\n",
       "stroke                            0\n",
       "work_type_Govt_job                0\n",
       "work_type_Private                 0\n",
       "work_type_Self-employed           0\n",
       "work_type_children                0\n",
       "smoking_status_Unknown            0\n",
       "smoking_status_formerly smoked    0\n",
       "smoking_status_never smoked       0\n",
       "smoking_status_smokes             0\n",
       "gender_Female                     0\n",
       "gender_Male                       0\n",
       "dtype: int64"
      ]
     },
     "execution_count": 638,
     "metadata": {},
     "output_type": "execute_result"
    }
   ],
   "source": [
    "df.isna().sum()"
   ]
  },
  {
   "cell_type": "code",
   "execution_count": 639,
   "id": "ecd90854",
   "metadata": {},
   "outputs": [
    {
     "data": {
      "text/html": [
       "<div>\n",
       "<style scoped>\n",
       "    .dataframe tbody tr th:only-of-type {\n",
       "        vertical-align: middle;\n",
       "    }\n",
       "\n",
       "    .dataframe tbody tr th {\n",
       "        vertical-align: top;\n",
       "    }\n",
       "\n",
       "    .dataframe thead th {\n",
       "        text-align: right;\n",
       "    }\n",
       "</style>\n",
       "<table border=\"1\" class=\"dataframe\">\n",
       "  <thead>\n",
       "    <tr style=\"text-align: right;\">\n",
       "      <th></th>\n",
       "      <th>age</th>\n",
       "      <th>hypertension</th>\n",
       "      <th>heart_disease</th>\n",
       "      <th>ever_married</th>\n",
       "      <th>Residence_type</th>\n",
       "      <th>avg_glucose_level</th>\n",
       "      <th>bmi</th>\n",
       "      <th>stroke</th>\n",
       "      <th>work_type_Govt_job</th>\n",
       "      <th>work_type_Private</th>\n",
       "      <th>work_type_Self-employed</th>\n",
       "      <th>work_type_children</th>\n",
       "      <th>smoking_status_Unknown</th>\n",
       "      <th>smoking_status_formerly smoked</th>\n",
       "      <th>smoking_status_never smoked</th>\n",
       "      <th>smoking_status_smokes</th>\n",
       "      <th>gender_Female</th>\n",
       "      <th>gender_Male</th>\n",
       "    </tr>\n",
       "  </thead>\n",
       "  <tbody>\n",
       "    <tr>\n",
       "      <th>0</th>\n",
       "      <td>3.0</td>\n",
       "      <td>0</td>\n",
       "      <td>0</td>\n",
       "      <td>0</td>\n",
       "      <td>0</td>\n",
       "      <td>95.12</td>\n",
       "      <td>18.0</td>\n",
       "      <td>0</td>\n",
       "      <td>0</td>\n",
       "      <td>0</td>\n",
       "      <td>0</td>\n",
       "      <td>1</td>\n",
       "      <td>1</td>\n",
       "      <td>0</td>\n",
       "      <td>0</td>\n",
       "      <td>0</td>\n",
       "      <td>0</td>\n",
       "      <td>1</td>\n",
       "    </tr>\n",
       "    <tr>\n",
       "      <th>1</th>\n",
       "      <td>58.0</td>\n",
       "      <td>1</td>\n",
       "      <td>0</td>\n",
       "      <td>1</td>\n",
       "      <td>1</td>\n",
       "      <td>87.96</td>\n",
       "      <td>39.2</td>\n",
       "      <td>0</td>\n",
       "      <td>0</td>\n",
       "      <td>1</td>\n",
       "      <td>0</td>\n",
       "      <td>0</td>\n",
       "      <td>0</td>\n",
       "      <td>0</td>\n",
       "      <td>1</td>\n",
       "      <td>0</td>\n",
       "      <td>0</td>\n",
       "      <td>1</td>\n",
       "    </tr>\n",
       "    <tr>\n",
       "      <th>2</th>\n",
       "      <td>8.0</td>\n",
       "      <td>0</td>\n",
       "      <td>0</td>\n",
       "      <td>0</td>\n",
       "      <td>1</td>\n",
       "      <td>110.89</td>\n",
       "      <td>17.6</td>\n",
       "      <td>0</td>\n",
       "      <td>0</td>\n",
       "      <td>1</td>\n",
       "      <td>0</td>\n",
       "      <td>0</td>\n",
       "      <td>1</td>\n",
       "      <td>0</td>\n",
       "      <td>0</td>\n",
       "      <td>0</td>\n",
       "      <td>1</td>\n",
       "      <td>0</td>\n",
       "    </tr>\n",
       "    <tr>\n",
       "      <th>3</th>\n",
       "      <td>70.0</td>\n",
       "      <td>0</td>\n",
       "      <td>0</td>\n",
       "      <td>1</td>\n",
       "      <td>0</td>\n",
       "      <td>69.04</td>\n",
       "      <td>35.9</td>\n",
       "      <td>0</td>\n",
       "      <td>0</td>\n",
       "      <td>1</td>\n",
       "      <td>0</td>\n",
       "      <td>0</td>\n",
       "      <td>0</td>\n",
       "      <td>1</td>\n",
       "      <td>0</td>\n",
       "      <td>0</td>\n",
       "      <td>1</td>\n",
       "      <td>0</td>\n",
       "    </tr>\n",
       "    <tr>\n",
       "      <th>4</th>\n",
       "      <td>52.0</td>\n",
       "      <td>0</td>\n",
       "      <td>0</td>\n",
       "      <td>1</td>\n",
       "      <td>1</td>\n",
       "      <td>77.59</td>\n",
       "      <td>17.7</td>\n",
       "      <td>0</td>\n",
       "      <td>0</td>\n",
       "      <td>1</td>\n",
       "      <td>0</td>\n",
       "      <td>0</td>\n",
       "      <td>0</td>\n",
       "      <td>1</td>\n",
       "      <td>0</td>\n",
       "      <td>0</td>\n",
       "      <td>1</td>\n",
       "      <td>0</td>\n",
       "    </tr>\n",
       "  </tbody>\n",
       "</table>\n",
       "</div>"
      ],
      "text/plain": [
       "    age  hypertension  heart_disease  ever_married  Residence_type  \\\n",
       "0   3.0             0              0             0               0   \n",
       "1  58.0             1              0             1               1   \n",
       "2   8.0             0              0             0               1   \n",
       "3  70.0             0              0             1               0   \n",
       "4  52.0             0              0             1               1   \n",
       "\n",
       "   avg_glucose_level   bmi  stroke  work_type_Govt_job  work_type_Private  \\\n",
       "0              95.12  18.0       0                   0                  0   \n",
       "1              87.96  39.2       0                   0                  1   \n",
       "2             110.89  17.6       0                   0                  1   \n",
       "3              69.04  35.9       0                   0                  1   \n",
       "4              77.59  17.7       0                   0                  1   \n",
       "\n",
       "   work_type_Self-employed  work_type_children  smoking_status_Unknown  \\\n",
       "0                        0                   1                       1   \n",
       "1                        0                   0                       0   \n",
       "2                        0                   0                       1   \n",
       "3                        0                   0                       0   \n",
       "4                        0                   0                       0   \n",
       "\n",
       "   smoking_status_formerly smoked  smoking_status_never smoked  \\\n",
       "0                               0                            0   \n",
       "1                               0                            1   \n",
       "2                               0                            0   \n",
       "3                               1                            0   \n",
       "4                               1                            0   \n",
       "\n",
       "   smoking_status_smokes  gender_Female  gender_Male  \n",
       "0                      0              0            1  \n",
       "1                      0              0            1  \n",
       "2                      0              1            0  \n",
       "3                      0              1            0  \n",
       "4                      0              1            0  "
      ]
     },
     "execution_count": 639,
     "metadata": {},
     "output_type": "execute_result"
    }
   ],
   "source": [
    "df.head()"
   ]
  },
  {
   "cell_type": "code",
   "execution_count": 640,
   "id": "b3f29f31",
   "metadata": {},
   "outputs": [
    {
     "data": {
      "text/plain": [
       "np.int64(0)"
      ]
     },
     "execution_count": 640,
     "metadata": {},
     "output_type": "execute_result"
    }
   ],
   "source": [
    "df.duplicated().sum()"
   ]
  },
  {
   "cell_type": "code",
   "execution_count": 641,
   "id": "dd28ea12",
   "metadata": {},
   "outputs": [],
   "source": [
    "df.to_csv(\"better_dataset.csv\", index=False)"
   ]
  }
 ],
 "metadata": {
  "kernelspec": {
   "display_name": ".venv",
   "language": "python",
   "name": "python3"
  },
  "language_info": {
   "codemirror_mode": {
    "name": "ipython",
    "version": 3
   },
   "file_extension": ".py",
   "mimetype": "text/x-python",
   "name": "python",
   "nbconvert_exporter": "python",
   "pygments_lexer": "ipython3",
   "version": "3.13.3"
  }
 },
 "nbformat": 4,
 "nbformat_minor": 5
}
